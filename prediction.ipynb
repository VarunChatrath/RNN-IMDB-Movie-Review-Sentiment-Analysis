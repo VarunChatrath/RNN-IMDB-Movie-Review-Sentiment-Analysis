{
  "cells": [
    {
      "cell_type": "code",
      "execution_count": 105,
      "metadata": {
        "id": "SZGoMIJUAenB"
      },
      "outputs": [],
      "source": [
        "import numpy as np\n",
        "import tensorflow as tf\n",
        "from tensorflow.keras.datasets import imdb\n",
        "from tensorflow.keras.preprocessing import sequence\n",
        "from tensorflow.keras.models import load_model"
      ]
    },
    {
      "cell_type": "code",
      "execution_count": 106,
      "metadata": {
        "id": "hnN7Uj32BA_H"
      },
      "outputs": [],
      "source": [
        "word_index = imdb.get_word_index()\n",
        "reverse_word_index = {value: key for key,value in word_index.items()}"
      ]
    },
    {
      "cell_type": "code",
      "execution_count": null,
      "metadata": {
        "colab": {
          "base_uri": "https://localhost:8080/"
        },
        "id": "PCRB9s68BQfm",
        "outputId": "534867e4-e521-4a5a-e517-0abc2c3a6f9b"
      },
      "outputs": [
        {
          "name": "stderr",
          "output_type": "stream",
          "text": [
            "WARNING:absl:Compiled the loaded model, but the compiled metrics have yet to be built. `model.compile_metrics` will be empty until you train or evaluate the model.\n"
          ]
        }
      ],
      "source": [
        "model = load_model('simple_rnn_imdb.h5')"
      ]
    },
    {
      "cell_type": "code",
      "execution_count": 108,
      "metadata": {
        "colab": {
          "base_uri": "https://localhost:8080/",
          "height": 255
        },
        "id": "CdDnxZp5COcN",
        "outputId": "eb31f2cb-fc44-4f46-b7e2-f63aa5dcdd8b"
      },
      "outputs": [
        {
          "data": {
            "text/html": [
              "<pre style=\"white-space:pre;overflow-x:auto;line-height:normal;font-family:Menlo,'DejaVu Sans Mono',consolas,'Courier New',monospace\"><span style=\"font-weight: bold\">Model: \"sequential\"</span>\n",
              "</pre>\n"
            ],
            "text/plain": [
              "\u001b[1mModel: \"sequential\"\u001b[0m\n"
            ]
          },
          "metadata": {},
          "output_type": "display_data"
        },
        {
          "data": {
            "text/html": [
              "<pre style=\"white-space:pre;overflow-x:auto;line-height:normal;font-family:Menlo,'DejaVu Sans Mono',consolas,'Courier New',monospace\">┏━━━━━━━━━━━━━━━━━━━━━━━━━━━━━━━━━┳━━━━━━━━━━━━━━━━━━━━━━━━┳━━━━━━━━━━━━━━━┓\n",
              "┃<span style=\"font-weight: bold\"> Layer (type)                    </span>┃<span style=\"font-weight: bold\"> Output Shape           </span>┃<span style=\"font-weight: bold\">       Param # </span>┃\n",
              "┡━━━━━━━━━━━━━━━━━━━━━━━━━━━━━━━━━╇━━━━━━━━━━━━━━━━━━━━━━━━╇━━━━━━━━━━━━━━━┩\n",
              "│ embedding (<span style=\"color: #0087ff; text-decoration-color: #0087ff\">Embedding</span>)           │ (<span style=\"color: #00af00; text-decoration-color: #00af00\">32</span>, <span style=\"color: #00af00; text-decoration-color: #00af00\">500</span>, <span style=\"color: #00af00; text-decoration-color: #00af00\">128</span>)         │     <span style=\"color: #00af00; text-decoration-color: #00af00\">1,280,000</span> │\n",
              "├─────────────────────────────────┼────────────────────────┼───────────────┤\n",
              "│ simple_rnn (<span style=\"color: #0087ff; text-decoration-color: #0087ff\">SimpleRNN</span>)          │ (<span style=\"color: #00af00; text-decoration-color: #00af00\">32</span>, <span style=\"color: #00af00; text-decoration-color: #00af00\">128</span>)              │        <span style=\"color: #00af00; text-decoration-color: #00af00\">32,896</span> │\n",
              "├─────────────────────────────────┼────────────────────────┼───────────────┤\n",
              "│ dense (<span style=\"color: #0087ff; text-decoration-color: #0087ff\">Dense</span>)                   │ (<span style=\"color: #00af00; text-decoration-color: #00af00\">32</span>, <span style=\"color: #00af00; text-decoration-color: #00af00\">1</span>)                │           <span style=\"color: #00af00; text-decoration-color: #00af00\">129</span> │\n",
              "└─────────────────────────────────┴────────────────────────┴───────────────┘\n",
              "</pre>\n"
            ],
            "text/plain": [
              "┏━━━━━━━━━━━━━━━━━━━━━━━━━━━━━━━━━┳━━━━━━━━━━━━━━━━━━━━━━━━┳━━━━━━━━━━━━━━━┓\n",
              "┃\u001b[1m \u001b[0m\u001b[1mLayer (type)                   \u001b[0m\u001b[1m \u001b[0m┃\u001b[1m \u001b[0m\u001b[1mOutput Shape          \u001b[0m\u001b[1m \u001b[0m┃\u001b[1m \u001b[0m\u001b[1m      Param #\u001b[0m\u001b[1m \u001b[0m┃\n",
              "┡━━━━━━━━━━━━━━━━━━━━━━━━━━━━━━━━━╇━━━━━━━━━━━━━━━━━━━━━━━━╇━━━━━━━━━━━━━━━┩\n",
              "│ embedding (\u001b[38;5;33mEmbedding\u001b[0m)           │ (\u001b[38;5;34m32\u001b[0m, \u001b[38;5;34m500\u001b[0m, \u001b[38;5;34m128\u001b[0m)         │     \u001b[38;5;34m1,280,000\u001b[0m │\n",
              "├─────────────────────────────────┼────────────────────────┼───────────────┤\n",
              "│ simple_rnn (\u001b[38;5;33mSimpleRNN\u001b[0m)          │ (\u001b[38;5;34m32\u001b[0m, \u001b[38;5;34m128\u001b[0m)              │        \u001b[38;5;34m32,896\u001b[0m │\n",
              "├─────────────────────────────────┼────────────────────────┼───────────────┤\n",
              "│ dense (\u001b[38;5;33mDense\u001b[0m)                   │ (\u001b[38;5;34m32\u001b[0m, \u001b[38;5;34m1\u001b[0m)                │           \u001b[38;5;34m129\u001b[0m │\n",
              "└─────────────────────────────────┴────────────────────────┴───────────────┘\n"
            ]
          },
          "metadata": {},
          "output_type": "display_data"
        },
        {
          "data": {
            "text/html": [
              "<pre style=\"white-space:pre;overflow-x:auto;line-height:normal;font-family:Menlo,'DejaVu Sans Mono',consolas,'Courier New',monospace\"><span style=\"font-weight: bold\"> Total params: </span><span style=\"color: #00af00; text-decoration-color: #00af00\">1,313,027</span> (5.01 MB)\n",
              "</pre>\n"
            ],
            "text/plain": [
              "\u001b[1m Total params: \u001b[0m\u001b[38;5;34m1,313,027\u001b[0m (5.01 MB)\n"
            ]
          },
          "metadata": {},
          "output_type": "display_data"
        },
        {
          "data": {
            "text/html": [
              "<pre style=\"white-space:pre;overflow-x:auto;line-height:normal;font-family:Menlo,'DejaVu Sans Mono',consolas,'Courier New',monospace\"><span style=\"font-weight: bold\"> Trainable params: </span><span style=\"color: #00af00; text-decoration-color: #00af00\">1,313,025</span> (5.01 MB)\n",
              "</pre>\n"
            ],
            "text/plain": [
              "\u001b[1m Trainable params: \u001b[0m\u001b[38;5;34m1,313,025\u001b[0m (5.01 MB)\n"
            ]
          },
          "metadata": {},
          "output_type": "display_data"
        },
        {
          "data": {
            "text/html": [
              "<pre style=\"white-space:pre;overflow-x:auto;line-height:normal;font-family:Menlo,'DejaVu Sans Mono',consolas,'Courier New',monospace\"><span style=\"font-weight: bold\"> Non-trainable params: </span><span style=\"color: #00af00; text-decoration-color: #00af00\">0</span> (0.00 B)\n",
              "</pre>\n"
            ],
            "text/plain": [
              "\u001b[1m Non-trainable params: \u001b[0m\u001b[38;5;34m0\u001b[0m (0.00 B)\n"
            ]
          },
          "metadata": {},
          "output_type": "display_data"
        },
        {
          "data": {
            "text/html": [
              "<pre style=\"white-space:pre;overflow-x:auto;line-height:normal;font-family:Menlo,'DejaVu Sans Mono',consolas,'Courier New',monospace\"><span style=\"font-weight: bold\"> Optimizer params: </span><span style=\"color: #00af00; text-decoration-color: #00af00\">2</span> (12.00 B)\n",
              "</pre>\n"
            ],
            "text/plain": [
              "\u001b[1m Optimizer params: \u001b[0m\u001b[38;5;34m2\u001b[0m (12.00 B)\n"
            ]
          },
          "metadata": {},
          "output_type": "display_data"
        }
      ],
      "source": [
        "model.summary()"
      ]
    },
    {
      "cell_type": "code",
      "execution_count": 109,
      "metadata": {
        "colab": {
          "base_uri": "https://localhost:8080/"
        },
        "id": "a61z2IB1CUgV",
        "outputId": "a307f5fe-6f29-4701-8bc7-7736c854b582"
      },
      "outputs": [
        {
          "data": {
            "text/plain": [
              "[array([[-0.28128925,  0.13106315,  0.23482195, ...,  0.2504711 ,\n",
              "          0.16292708, -0.22911398],\n",
              "        [-0.01892443,  0.01794271, -0.01473949, ..., -0.02662622,\n",
              "         -0.01205385,  0.02441389],\n",
              "        [-0.00975912,  0.0212335 ,  0.00323492, ...,  0.0327294 ,\n",
              "         -0.0402054 ,  0.01719814],\n",
              "        ...,\n",
              "        [ 0.04270374, -0.01684514, -0.03238712, ...,  0.05046639,\n",
              "          0.01714447,  0.00574066],\n",
              "        [ 0.13645077, -0.01684481,  0.00212336, ...,  0.04259209,\n",
              "         -0.06119871,  0.00215205],\n",
              "        [-0.07499532, -0.0665517 , -0.00738347, ...,  0.06818402,\n",
              "         -0.05954946, -0.0515438 ]], dtype=float32),\n",
              " array([[-0.1414441 , -0.09183059,  0.03631599, ..., -0.0408982 ,\n",
              "         -0.2670957 ,  0.04040448],\n",
              "        [ 0.00116632,  0.15910071, -0.18923448, ...,  0.03992509,\n",
              "          0.24087374,  0.13938124],\n",
              "        [ 0.00298932, -0.15101473, -0.14927906, ..., -0.0163856 ,\n",
              "         -0.0453525 ,  0.1558994 ],\n",
              "        ...,\n",
              "        [ 0.23973326, -0.1291367 , -0.05879534, ...,  0.12664042,\n",
              "         -0.06812508,  0.10548577],\n",
              "        [-0.02564078, -0.13369928, -0.13098831, ...,  0.1637254 ,\n",
              "          0.3114111 ,  0.07868827],\n",
              "        [-0.0322398 ,  0.15542598,  0.09831314, ...,  0.00963329,\n",
              "         -0.03216563, -0.13955927]], dtype=float32),\n",
              " array([[ 8.1021667e-02,  2.3838070e-01,  7.5901933e-02, ...,\n",
              "          3.8188603e-03,  6.0566299e-02, -8.9683391e-02],\n",
              "        [ 1.4715603e-02,  1.9235451e-02, -5.2593790e-02, ...,\n",
              "          1.5570322e-01, -1.6192625e-01,  1.0877846e-01],\n",
              "        [ 9.3173057e-02, -5.0825655e-02, -5.9186514e-02, ...,\n",
              "         -1.1976743e-03,  6.7939378e-02,  1.4485791e-01],\n",
              "        ...,\n",
              "        [-5.8739670e-02, -2.2045174e-01, -9.5315635e-02, ...,\n",
              "          1.5678021e-01,  8.0831870e-02,  5.4593440e-03],\n",
              "        [ 7.9766624e-02, -1.0207406e-04, -1.3834809e-01, ...,\n",
              "          9.8481134e-02,  6.5308325e-02,  1.1113561e-01],\n",
              "        [ 1.1042404e-01,  1.6172203e-01, -9.9699497e-02, ...,\n",
              "         -4.4488069e-02, -1.2212136e-01,  5.9170898e-02]], dtype=float32),\n",
              " array([ 0.01099417,  0.01604576, -0.03616441,  0.00753393,  0.00241864,\n",
              "        -0.02611827, -0.01053237, -0.00515089, -0.03070937, -0.00532725,\n",
              "        -0.02630514, -0.00346912, -0.0343649 , -0.02931091, -0.01244528,\n",
              "        -0.01520948, -0.00662522,  0.02810474, -0.01443227,  0.02021846,\n",
              "         0.01340558,  0.00975704, -0.00270868, -0.01344913,  0.01634842,\n",
              "        -0.017581  , -0.00657581,  0.0071491 , -0.03176256, -0.00794771,\n",
              "        -0.00532249,  0.01067377, -0.03637702, -0.00597261,  0.01962363,\n",
              "        -0.00833018, -0.01923474, -0.02953457,  0.01778309,  0.00829994,\n",
              "        -0.01983481,  0.013245  ,  0.01734769, -0.03688601,  0.01764873,\n",
              "         0.00174515, -0.01325723,  0.00192328, -0.00528059, -0.02540721,\n",
              "         0.04053422, -0.00100285, -0.01934003,  0.01171471,  0.01677187,\n",
              "         0.00927377, -0.00366844, -0.02470936,  0.01194435,  0.03387143,\n",
              "        -0.02609769, -0.00051244,  0.03586729,  0.00378442, -0.01003721,\n",
              "         0.00944296, -0.00504897, -0.02432044,  0.00488214, -0.00057743,\n",
              "        -0.00138488, -0.00366471, -0.01470835, -0.03782794, -0.01502088,\n",
              "         0.01019089,  0.00765063, -0.01586048,  0.02057617,  0.01112183,\n",
              "         0.00024137,  0.00954882, -0.00233303, -0.01422494, -0.00799513,\n",
              "        -0.00318812, -0.0033686 ,  0.00283145, -0.01722939, -0.00512638,\n",
              "         0.03229709,  0.01025388,  0.02518192, -0.00066706, -0.02123599,\n",
              "         0.01312492,  0.00802557,  0.0155874 ,  0.00058649, -0.01656304,\n",
              "         0.00971386,  0.01457613,  0.00136722,  0.00534793, -0.02381849,\n",
              "        -0.01310819, -0.00701535, -0.01365247,  0.01873115, -0.06103209,\n",
              "         0.00790994, -0.02992309,  0.01154918,  0.01285661, -0.00842101,\n",
              "         0.02052434,  0.01408139,  0.00297538,  0.00585081,  0.01346258,\n",
              "        -0.01255806,  0.02733985,  0.02473959,  0.01487273,  0.04145683,\n",
              "        -0.00949245,  0.03350745,  0.03214077], dtype=float32),\n",
              " array([[ 0.15287112],\n",
              "        [-0.08239766],\n",
              "        [-0.04563149],\n",
              "        [-0.09361205],\n",
              "        [-0.14326888],\n",
              "        [ 0.15834819],\n",
              "        [-0.14308776],\n",
              "        [ 0.12730609],\n",
              "        [-0.13319376],\n",
              "        [ 0.01238139],\n",
              "        [ 0.04395999],\n",
              "        [ 0.08416439],\n",
              "        [-0.26773423],\n",
              "        [ 0.25248873],\n",
              "        [ 0.17968301],\n",
              "        [-0.12195619],\n",
              "        [-0.11920249],\n",
              "        [-0.1477089 ],\n",
              "        [-0.07250694],\n",
              "        [-0.13593507],\n",
              "        [-0.27485165],\n",
              "        [ 0.06646296],\n",
              "        [ 0.13438882],\n",
              "        [ 0.09491931],\n",
              "        [-0.16624543],\n",
              "        [ 0.14484684],\n",
              "        [ 0.03660974],\n",
              "        [ 0.06540771],\n",
              "        [-0.1929142 ],\n",
              "        [-0.1288806 ],\n",
              "        [-0.1249951 ],\n",
              "        [-0.1228773 ],\n",
              "        [ 0.01992839],\n",
              "        [ 0.09984453],\n",
              "        [ 0.28896925],\n",
              "        [ 0.18646234],\n",
              "        [-0.09896307],\n",
              "        [ 0.13150097],\n",
              "        [-0.05444985],\n",
              "        [ 0.04024458],\n",
              "        [ 0.0817212 ],\n",
              "        [-0.02181309],\n",
              "        [ 0.03046679],\n",
              "        [-0.03902469],\n",
              "        [ 0.13560131],\n",
              "        [ 0.1755649 ],\n",
              "        [-0.08379012],\n",
              "        [ 0.04075881],\n",
              "        [-0.11475511],\n",
              "        [-0.00251633],\n",
              "        [-0.14433445],\n",
              "        [ 0.16566025],\n",
              "        [-0.02966542],\n",
              "        [ 0.13036357],\n",
              "        [-0.1859507 ],\n",
              "        [-0.18042475],\n",
              "        [-0.08090898],\n",
              "        [ 0.13398488],\n",
              "        [-0.16876088],\n",
              "        [-0.0175427 ],\n",
              "        [ 0.00369614],\n",
              "        [-0.13101523],\n",
              "        [-0.070559  ],\n",
              "        [ 0.00306501],\n",
              "        [-0.08759695],\n",
              "        [-0.1826074 ],\n",
              "        [-0.00363088],\n",
              "        [ 0.19911414],\n",
              "        [ 0.11968765],\n",
              "        [-0.02219124],\n",
              "        [-0.0726276 ],\n",
              "        [-0.10957563],\n",
              "        [ 0.04060158],\n",
              "        [ 0.08443245],\n",
              "        [-0.18400013],\n",
              "        [ 0.17659602],\n",
              "        [ 0.19661167],\n",
              "        [ 0.05783533],\n",
              "        [-0.18517265],\n",
              "        [ 0.23552853],\n",
              "        [-0.21516079],\n",
              "        [ 0.10631827],\n",
              "        [-0.05645503],\n",
              "        [-0.12730116],\n",
              "        [-0.04107147],\n",
              "        [ 0.1384617 ],\n",
              "        [-0.00675139],\n",
              "        [ 0.2102786 ],\n",
              "        [-0.01129194],\n",
              "        [-0.17441678],\n",
              "        [-0.09316444],\n",
              "        [ 0.07049195],\n",
              "        [ 0.18844214],\n",
              "        [-0.14092587],\n",
              "        [-0.06153635],\n",
              "        [-0.02056604],\n",
              "        [ 0.16738787],\n",
              "        [ 0.04686592],\n",
              "        [-0.06982373],\n",
              "        [-0.1716071 ],\n",
              "        [-0.17625894],\n",
              "        [ 0.16068803],\n",
              "        [ 0.0017234 ],\n",
              "        [ 0.17454228],\n",
              "        [ 0.10740166],\n",
              "        [ 0.0467203 ],\n",
              "        [-0.03764444],\n",
              "        [-0.11601685],\n",
              "        [ 0.02267859],\n",
              "        [ 0.21741919],\n",
              "        [ 0.20523086],\n",
              "        [ 0.23805171],\n",
              "        [ 0.05499693],\n",
              "        [-0.06147876],\n",
              "        [-0.21320009],\n",
              "        [-0.24356446],\n",
              "        [-0.07335484],\n",
              "        [ 0.24072704],\n",
              "        [ 0.03270375],\n",
              "        [ 0.08338551],\n",
              "        [-0.07894422],\n",
              "        [ 0.15305597],\n",
              "        [-0.04656556],\n",
              "        [ 0.1549452 ],\n",
              "        [-0.21127993],\n",
              "        [-0.06029104],\n",
              "        [ 0.36181286],\n",
              "        [ 0.09508422]], dtype=float32),\n",
              " array([-0.05488249], dtype=float32)]"
            ]
          },
          "execution_count": 109,
          "metadata": {},
          "output_type": "execute_result"
        }
      ],
      "source": [
        "model.get_weights()"
      ]
    },
    {
      "cell_type": "code",
      "execution_count": 110,
      "metadata": {
        "id": "_gnPqyfCCWbn"
      },
      "outputs": [],
      "source": [
        "def decode_review(encoded_review):\n",
        "  return ' '.join([reverse_word_index.get(i - 3,'?') for i in encoded_review])\n",
        "\n",
        "def preprocess_text(text):\n",
        "  words = text.lower().split()\n",
        "  encoded_review = [word_index.get(word,2) for word in words]\n",
        "  padded_review = sequence.pad_sequences([encoded_review], maxlen=500)\n",
        "  return padded_review"
      ]
    },
    {
      "cell_type": "code",
      "execution_count": 111,
      "metadata": {
        "id": "ztYY9rFOCbeM"
      },
      "outputs": [],
      "source": [
        "def predict_sentiment(review):\n",
        "  preprocessed_input = preprocess_text(review)\n",
        "\n",
        "  prediction = model.predict(preprocessed_input)\n",
        "\n",
        "  sentiment = 'Positive' if prediction[0][0] > 0.5 else 'Negative'\n",
        "\n",
        "  return sentiment, prediction[0][0]"
      ]
    },
    {
      "cell_type": "code",
      "execution_count": 123,
      "metadata": {
        "colab": {
          "base_uri": "https://localhost:8080/"
        },
        "id": "0504meVuDSYN",
        "outputId": "2dcdab9e-aa37-4eba-dcf0-be766bf39daf"
      },
      "outputs": [
        {
          "name": "stdout",
          "output_type": "stream",
          "text": [
            "\u001b[1m1/1\u001b[0m \u001b[32m━━━━━━━━━━━━━━━━━━━━\u001b[0m\u001b[37m\u001b[0m \u001b[1m0s\u001b[0m 48ms/step\n",
            "Review: This movie was fantastic! The acting was great and the plot was thrilling.\n",
            "Sentiment: Positive\n",
            "Prediction Score: 0.6738335490226746\n"
          ]
        }
      ],
      "source": [
        "example_review = \"This movie was fantastic! The acting was great and the plot was thrilling.\"\n",
        "\n",
        "sentiment,score = predict_sentiment(example_review)\n",
        "\n",
        "print(f'Review: {example_review}')\n",
        "print(f'Sentiment: {sentiment}')\n",
        "print(f'Prediction Score: {score}')"
      ]
    },
    {
      "cell_type": "code",
      "execution_count": 112,
      "metadata": {
        "id": "001d11ae"
      },
      "outputs": [],
      "source": []
    }
  ],
  "metadata": {
    "colab": {
      "provenance": []
    },
    "kernelspec": {
      "display_name": "Python 3",
      "name": "python3"
    },
    "language_info": {
      "name": "python"
    }
  },
  "nbformat": 4,
  "nbformat_minor": 0
}
